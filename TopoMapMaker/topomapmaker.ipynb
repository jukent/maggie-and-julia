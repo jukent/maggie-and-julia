{
 "cells": [
  {
   "cell_type": "code",
   "execution_count": null,
   "metadata": {},
   "outputs": [],
   "source": [
    "import pygmt\n",
    "import geopandas as gpd\n",
    "import rioxarray"
   ]
  },
  {
   "cell_type": "code",
   "execution_count": null,
   "metadata": {},
   "outputs": [],
   "source": [
    "grid = pygmt.datasets.load_earth_relief(resolution=\"05m\", region=[-130, -65, 24, 52])\n",
    "grid.rio.write_crs(\"epsg:4326\", inplace=True)"
   ]
  },
  {
   "cell_type": "markdown",
   "metadata": {},
   "source": [
    "Download [TIGER/Line U.S. State Shapefiles](https://catalog.data.gov/dataset/tiger-line-shapefile-current-nation-u-s-state-and-equivalent-entities/resource/ac41845b-de1d-4b4f-ab98-0f8573a6b69d) from the U.S. Census Bureau."
   ]
  },
  {
   "cell_type": "code",
   "execution_count": null,
   "metadata": {},
   "outputs": [],
   "source": [
    "state = 'New York' #'Virginia'\n",
    "\n",
    "path='tl_2023_us_state/tl_2023_us_state.shp' # TIGER/Line Shapefile for U.S. States\n",
    "\n",
    "df = gpd.read_file(path)\n",
    "\n",
    "state_shape = df[df['NAME'] == state]\n",
    "shape = state_shape.to_crs(\"EPSG:4326\")"
   ]
  },
  {
   "cell_type": "raw",
   "metadata": {
    "vscode": {
     "languageId": "raw"
    }
   },
   "source": [
    "shapefile = gpd.read_file(gpd.datasets.get_path('naturalearth_lowres'))\n",
    "shape = shapefile[(shapefile.name == \"United States of America\") & (shapefile.continent == \"North America\")] # USA"
   ]
  },
  {
   "cell_type": "code",
   "execution_count": null,
   "metadata": {},
   "outputs": [],
   "source": [
    "clipped = grid.rio.clip(shape.geometry.values, shape.crs, drop=False, invert=False)"
   ]
  },
  {
   "cell_type": "code",
   "execution_count": null,
   "metadata": {},
   "outputs": [],
   "source": [
    "redhook_ny = {'lon':-73.8754, 'lat':41.9948}\n",
    "alexandria_va = {'lon':-77.0469, 'lat':38.8048}\n",
    "boulder_co = {'lon':-105.2705, 'lat':40.0150}\n",
    "lyons_co = {'lon':-105.2719, 'lat':40.2247}\n",
    "\n",
    "fig = pygmt.Figure()\n",
    "\n",
    "region = [-79.9, -72, 40.5, 45.1] # for NY\n",
    "# [-85, -75, 36, 40] # for VA\n",
    "# [-109.545, -101.541, 36.493076, 41.503444] # for CO\n",
    "# [-130, -65, 24, 52] # for USA\n",
    "\n",
    "fig.coast(\n",
    "    region=region, # Sets region and projection\n",
    "    water='white',\n",
    ")\n",
    "\n",
    "fig.plot(data=state_shape, pen=\"0.5p\", region=region, fill=\"#F0F0F0\") # Plot state boundary offwhite\n",
    "\n",
    "fig.grdcontour(clipped, annotation=250, interval=50) # Plot contours\n",
    "\n",
    "# # Plot dotted lines between cities (US Map Only)\n",
    "# fig.plot(\n",
    "#     x=[redhook_ny['lon], boulder_co['lon']],\n",
    "#     y=[redhook_ny['lat], boulder_co['lat']],\n",
    "#     pen=\"1p,-\",\n",
    "# )\n",
    "# fig.plot(\n",
    "#     x=[alexandria_va['lon], boulder_co['lon']],\n",
    "#     y=[alexandria_va['lat], boulder_co['lat']],\n",
    "#     pen=\"1p,-\",\n",
    "# )\n",
    "\n",
    "city = redhook_ny\n",
    "fig.text(text=\"\\u2764\", x=city['lon'], y=city['lat'], font=\"15p,red\") # Annotate heart\n",
    "\n",
    "fig.show();"
   ]
  }
 ],
 "metadata": {
  "language_info": {
   "name": "python"
  }
 },
 "nbformat": 4,
 "nbformat_minor": 2
}
